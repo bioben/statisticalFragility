{
  "metadata": {
    "language_info": {
      "codemirror_mode": {
        "name": "python",
        "version": 3
      },
      "file_extension": ".py",
      "mimetype": "text/x-python",
      "name": "python",
      "nbconvert_exporter": "python",
      "pygments_lexer": "ipython3",
      "version": "3.8"
    },
    "kernelspec": {
      "name": "python",
      "display_name": "Python (Pyodide)",
      "language": "python"
    }
  },
  "nbformat_minor": 4,
  "nbformat": 4,
  "cells": [
    {
      "cell_type": "code",
      "source": "import scipy.stats as stats\nimport pandas as pd\nimport math\n",
      "metadata": {
        "trusted": true
      },
      "execution_count": 4,
      "outputs": []
    },
    {
      "cell_type": "code",
      "source": "#import sample df;\nsampleData = pd.read_csv('sampleData.csv');",
      "metadata": {
        "trusted": true
      },
      "execution_count": 5,
      "outputs": []
    },
    {
      "cell_type": "code",
      "source": "sampleData",
      "metadata": {
        "trusted": true
      },
      "execution_count": 6,
      "outputs": [
        {
          "execution_count": 6,
          "output_type": "execute_result",
          "data": {
            "text/plain": "  Study Name  PMID  a   b  c   d\n0    myStudy  1111  3  18  6  17\n1   myStudy2  2222  1  34  8   6",
            "text/html": "<div>\n<style scoped>\n    .dataframe tbody tr th:only-of-type {\n        vertical-align: middle;\n    }\n\n    .dataframe tbody tr th {\n        vertical-align: top;\n    }\n\n    .dataframe thead th {\n        text-align: right;\n    }\n</style>\n<table border=\"1\" class=\"dataframe\">\n  <thead>\n    <tr style=\"text-align: right;\">\n      <th></th>\n      <th>Study Name</th>\n      <th>PMID</th>\n      <th>a</th>\n      <th>b</th>\n      <th>c</th>\n      <th>d</th>\n    </tr>\n  </thead>\n  <tbody>\n    <tr>\n      <th>0</th>\n      <td>myStudy</td>\n      <td>1111</td>\n      <td>3</td>\n      <td>18</td>\n      <td>6</td>\n      <td>17</td>\n    </tr>\n    <tr>\n      <th>1</th>\n      <td>myStudy2</td>\n      <td>2222</td>\n      <td>1</td>\n      <td>34</td>\n      <td>8</td>\n      <td>6</td>\n    </tr>\n  </tbody>\n</table>\n</div>"
          },
          "metadata": {}
        }
      ]
    },
    {
      "cell_type": "code",
      "source": "#add information!!\n\n#find total number of participants\nonly2x2TableData = sampleData[['a', 'b', 'c', 'd']];\nsumAcrossRows = only2x2TableData.sum(axis = 1);\nsampleData['totalPop'] = sumAcrossRows;\n\nsampleData",
      "metadata": {
        "trusted": true
      },
      "execution_count": 7,
      "outputs": [
        {
          "execution_count": 7,
          "output_type": "execute_result",
          "data": {
            "text/plain": "  Study Name  PMID  a   b  c   d  totalPop\n0    myStudy  1111  3  18  6  17        44\n1   myStudy2  2222  1  34  8   6        49",
            "text/html": "<div>\n<style scoped>\n    .dataframe tbody tr th:only-of-type {\n        vertical-align: middle;\n    }\n\n    .dataframe tbody tr th {\n        vertical-align: top;\n    }\n\n    .dataframe thead th {\n        text-align: right;\n    }\n</style>\n<table border=\"1\" class=\"dataframe\">\n  <thead>\n    <tr style=\"text-align: right;\">\n      <th></th>\n      <th>Study Name</th>\n      <th>PMID</th>\n      <th>a</th>\n      <th>b</th>\n      <th>c</th>\n      <th>d</th>\n      <th>totalPop</th>\n    </tr>\n  </thead>\n  <tbody>\n    <tr>\n      <th>0</th>\n      <td>myStudy</td>\n      <td>1111</td>\n      <td>3</td>\n      <td>18</td>\n      <td>6</td>\n      <td>17</td>\n      <td>44</td>\n    </tr>\n    <tr>\n      <th>1</th>\n      <td>myStudy2</td>\n      <td>2222</td>\n      <td>1</td>\n      <td>34</td>\n      <td>8</td>\n      <td>6</td>\n      <td>49</td>\n    </tr>\n  </tbody>\n</table>\n</div>"
          },
          "metadata": {}
        }
      ]
    },
    {
      "cell_type": "code",
      "source": "#given abcd values, what is the p-value using fishers test?\ndef myFishersTestFunction(abcdDataRow):\n    indivTable = abcdDataRow.values\n    organizedTable = [\n        [indivTable[0], indivTable[1]],\n        [indivTable[2], indivTable[3]]\n    ]\n    [oddsRatio, pValue] = stats.fisher_exact(organizedTable)\n\n    return pValue\n",
      "metadata": {
        "trusted": true
      },
      "execution_count": 8,
      "outputs": []
    },
    {
      "cell_type": "code",
      "source": "#determine p-value from Fisher's Exact Test\nonly2x2TableData = sampleData[['a', 'b', 'c', 'd']];\n\nmyPValuesOriginal = []\n\nfor index, rows in only2x2TableData.iterrows():\n    pValue = myFishersTestFunction(only2x2TableData.iloc[index])\n    myPValuesOriginal.append(pValue)\n    \nsampleData['pValuesOriginal'] = myPValuesOriginal",
      "metadata": {
        "trusted": true
      },
      "execution_count": 9,
      "outputs": []
    },
    {
      "cell_type": "code",
      "source": "sampleData",
      "metadata": {
        "trusted": true
      },
      "execution_count": 10,
      "outputs": [
        {
          "execution_count": 10,
          "output_type": "execute_result",
          "data": {
            "text/plain": "  Study Name  PMID  a   b  c   d  totalPop  pValuesOriginal\n0    myStudy  1111  3  18  6  17        44         0.461753\n1   myStudy2  2222  1  34  8   6        49         0.000052",
            "text/html": "<div>\n<style scoped>\n    .dataframe tbody tr th:only-of-type {\n        vertical-align: middle;\n    }\n\n    .dataframe tbody tr th {\n        vertical-align: top;\n    }\n\n    .dataframe thead th {\n        text-align: right;\n    }\n</style>\n<table border=\"1\" class=\"dataframe\">\n  <thead>\n    <tr style=\"text-align: right;\">\n      <th></th>\n      <th>Study Name</th>\n      <th>PMID</th>\n      <th>a</th>\n      <th>b</th>\n      <th>c</th>\n      <th>d</th>\n      <th>totalPop</th>\n      <th>pValuesOriginal</th>\n    </tr>\n  </thead>\n  <tbody>\n    <tr>\n      <th>0</th>\n      <td>myStudy</td>\n      <td>1111</td>\n      <td>3</td>\n      <td>18</td>\n      <td>6</td>\n      <td>17</td>\n      <td>44</td>\n      <td>0.461753</td>\n    </tr>\n    <tr>\n      <th>1</th>\n      <td>myStudy2</td>\n      <td>2222</td>\n      <td>1</td>\n      <td>34</td>\n      <td>8</td>\n      <td>6</td>\n      <td>49</td>\n      <td>0.000052</td>\n    </tr>\n  </tbody>\n</table>\n</div>"
          },
          "metadata": {}
        }
      ]
    },
    {
      "cell_type": "code",
      "source": "#find the fragility index and fragility quotient\nonly2x2TableData = sampleData[['a', 'b', 'c', 'd']];\n\nmyFIValues = []\nnewPValues = []\n\nfor index, rows in only2x2TableData.iterrows():\n    currentStudy = only2x2TableData.iloc[index]\n    pValue = myFishersTestFunction(currentStudy)\n    \n    counter = 0\n    # is the pValue insig?\n    while (pValue < 0.05):\n        currentStudy['a'] = currentStudy['a'] + 1\n        currentStudy['b'] = currentStudy['b'] - 1\n        counter = counter + 1\n        pValue = myFishersTestFunction(currentStudy)\n        \n    myFIValues.append(counter)\n    newPValues.append(pValue)",
      "metadata": {
        "trusted": true
      },
      "execution_count": 13,
      "outputs": []
    },
    {
      "cell_type": "code",
      "source": "myFIValues",
      "metadata": {
        "trusted": true
      },
      "execution_count": 15,
      "outputs": [
        {
          "execution_count": 15,
          "output_type": "execute_result",
          "data": {
            "text/plain": "[0, 8]"
          },
          "metadata": {}
        }
      ]
    },
    {
      "cell_type": "code",
      "source": "#add these new FI and p values to main table\nsampleData['FI'] = myFIValues;\nsampleData['FQ'] = sampleData['FI'] / sampleData['totalPop']\nsampleData['newPValue'] = newPValues;",
      "metadata": {
        "trusted": true
      },
      "execution_count": 21,
      "outputs": []
    },
    {
      "cell_type": "code",
      "source": "sampleData",
      "metadata": {
        "trusted": true
      },
      "execution_count": 22,
      "outputs": [
        {
          "execution_count": 22,
          "output_type": "execute_result",
          "data": {
            "text/plain": "  Study Name  PMID  a   b  c   d  totalPop  pValuesOriginal  FI  newPValue  \\\n0    myStudy  1111  3  18  6  17        44         0.461753   0   0.461753   \n1   myStudy2  2222  1  34  8   6        49         0.000052   8   0.050449   \n\n         FQ  \n0  0.000000  \n1  0.163265  ",
            "text/html": "<div>\n<style scoped>\n    .dataframe tbody tr th:only-of-type {\n        vertical-align: middle;\n    }\n\n    .dataframe tbody tr th {\n        vertical-align: top;\n    }\n\n    .dataframe thead th {\n        text-align: right;\n    }\n</style>\n<table border=\"1\" class=\"dataframe\">\n  <thead>\n    <tr style=\"text-align: right;\">\n      <th></th>\n      <th>Study Name</th>\n      <th>PMID</th>\n      <th>a</th>\n      <th>b</th>\n      <th>c</th>\n      <th>d</th>\n      <th>totalPop</th>\n      <th>pValuesOriginal</th>\n      <th>FI</th>\n      <th>newPValue</th>\n      <th>FQ</th>\n    </tr>\n  </thead>\n  <tbody>\n    <tr>\n      <th>0</th>\n      <td>myStudy</td>\n      <td>1111</td>\n      <td>3</td>\n      <td>18</td>\n      <td>6</td>\n      <td>17</td>\n      <td>44</td>\n      <td>0.461753</td>\n      <td>0</td>\n      <td>0.461753</td>\n      <td>0.000000</td>\n    </tr>\n    <tr>\n      <th>1</th>\n      <td>myStudy2</td>\n      <td>2222</td>\n      <td>1</td>\n      <td>34</td>\n      <td>8</td>\n      <td>6</td>\n      <td>49</td>\n      <td>0.000052</td>\n      <td>8</td>\n      <td>0.050449</td>\n      <td>0.163265</td>\n    </tr>\n  </tbody>\n</table>\n</div>"
          },
          "metadata": {}
        }
      ]
    },
    {
      "cell_type": "code",
      "source": "",
      "metadata": {},
      "execution_count": null,
      "outputs": []
    }
  ]
}